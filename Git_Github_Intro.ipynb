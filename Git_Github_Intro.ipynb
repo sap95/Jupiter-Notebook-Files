{
 "cells": [
  {
   "cell_type": "code",
   "execution_count": 1,
   "metadata": {},
   "outputs": [
    {
     "name": "stdout",
     "output_type": "stream",
     "text": [
      "Hello World\n"
     ]
    }
   ],
   "source": [
    "print('Hello World')"
   ]
  },
  {
   "cell_type": "code",
   "execution_count": 2,
   "metadata": {},
   "outputs": [],
   "source": [
    "#numpy\n"
   ]
  },
  {
   "cell_type": "code",
   "execution_count": null,
   "metadata": {},
   "outputs": [],
   "source": [
    "# Modes of Operation:\n",
    "#    1.Command Mode - Blue Color -esc - moving up , adding/removing ,up/down - b for inserting cell,x for deleting a call,a for adding cell above\n",
    "#    2.Edit Mode - Green color - enter - We edit the cell\n",
    "#In command mode \n",
    "   #Add a cell above - Press a \n",
    "   #Add a cell below - Press b \n",
    "   #Delete a cell    - Press x \n",
    "   #shift + enter    - Running cell"
   ]
  },
  {
   "cell_type": "code",
   "execution_count": null,
   "metadata": {},
   "outputs": [],
   "source": [
    "# Git & Git Hub - Introduction \n",
    "Git - VCS -Version Control System (Audit History Tracking) - Distributed VCS \n",
    "# Keeps track of files and changes \n",
    "# Keep detailed version for the files \n"
   ]
  },
  {
   "cell_type": "code",
   "execution_count": null,
   "metadata": {},
   "outputs": [],
   "source": [
    "add - Index area or Staging area \n",
    "commit - Local repo \n",
    "push - Saving the code in cloud \n",
    "pull - pulling the code from remote "
   ]
  },
  {
   "cell_type": "code",
   "execution_count": null,
   "metadata": {},
   "outputs": [],
   "source": [
    "pwd - check current folder \n",
    "cd - To go to a directory \n",
    "mkdir - to make a new folder \n",
    "git.init - To initialise git environment"
   ]
  }
 ],
 "metadata": {
  "kernelspec": {
   "display_name": "Python 3",
   "language": "python",
   "name": "python3"
  },
  "language_info": {
   "codemirror_mode": {
    "name": "ipython",
    "version": 3
   },
   "file_extension": ".py",
   "mimetype": "text/x-python",
   "name": "python",
   "nbconvert_exporter": "python",
   "pygments_lexer": "ipython3",
   "version": "3.8.5"
  }
 },
 "nbformat": 4,
 "nbformat_minor": 4
}
